{
 "cells": [
  {
   "cell_type": "markdown",
   "metadata": {},
   "source": [
    "# Ford Focus Modelling"
   ]
  },
  {
   "cell_type": "code",
   "execution_count": 38,
   "metadata": {},
   "outputs": [],
   "source": [
    "import pandas as pd\n",
    "import numpy as np\n",
    "from data_preparation import split_years_df, split_train\n",
    "from models import linear_model, custom_input_for_model, xgb_r\n",
    "from sklearn.linear_model import LinearRegression\n",
    "from sklearn.model_selection import cross_validate, cross_val_score\n",
    "import xgboost as xg \n"
   ]
  },
  {
   "cell_type": "markdown",
   "metadata": {},
   "source": [
    "The goal of this project is to build a model, that can be used to find potentially undervalued cars. I will use linear regression to build a model to predict a car price based on various features.\n",
    "\n",
    "Various models will have to be trained and tested in order to find the optimum features. The first part will be exploring the features and the correlations."
   ]
  },
  {
   "cell_type": "code",
   "execution_count": 39,
   "metadata": {},
   "outputs": [],
   "source": [
    "df_focus_17, df_focus_18, df_focus_19 = split_years_df()"
   ]
  },
  {
   "cell_type": "code",
   "execution_count": 40,
   "metadata": {},
   "outputs": [
    {
     "name": "stdout",
     "output_type": "stream",
     "text": [
      "<class 'pandas.core.frame.DataFrame'>\n",
      "Int64Index: 1288 entries, 12 to 5441\n",
      "Data columns (total 9 columns):\n",
      " #   Column                  Non-Null Count  Dtype  \n",
      "---  ------                  --------------  -----  \n",
      " 0   year                    1288 non-null   int64  \n",
      " 1   price                   1288 non-null   int64  \n",
      " 2   mileage                 1288 non-null   int64  \n",
      " 3   engineSize              1288 non-null   float64\n",
      " 4   transmission_Automatic  1288 non-null   uint8  \n",
      " 5   transmission_Manual     1288 non-null   uint8  \n",
      " 6   transmission_Semi-Auto  1288 non-null   uint8  \n",
      " 7   fuelType_Diesel         1288 non-null   uint8  \n",
      " 8   fuelType_Petrol         1288 non-null   uint8  \n",
      "dtypes: float64(1), int64(3), uint8(5)\n",
      "memory usage: 56.6 KB\n"
     ]
    }
   ],
   "source": [
    "df_focus_17.info()"
   ]
  },
  {
   "cell_type": "code",
   "execution_count": 41,
   "metadata": {},
   "outputs": [
    {
     "name": "stdout",
     "output_type": "stream",
     "text": [
      "Mean price for 17 models: £12588.9\n",
      "Mean price for 18 models: £14613.9\n",
      "Mean price for 19 models: £17859.3\n"
     ]
    }
   ],
   "source": [
    "focus_17_mean = df_focus_17[\"price\"].mean()\n",
    "focus_18_mean = df_focus_18[\"price\"].mean()\n",
    "focus_19_mean = df_focus_19[\"price\"].mean()\n",
    "\n",
    "print(\"Mean price for 17 models: £{}\".format(round(focus_17_mean, 1)))\n",
    "print(\"Mean price for 18 models: £{}\".format(round(focus_18_mean, 1)))\n",
    "print(\"Mean price for 19 models: £{}\".format(round(focus_19_mean, 1)))"
   ]
  },
  {
   "cell_type": "code",
   "execution_count": 42,
   "metadata": {},
   "outputs": [],
   "source": [
    "corr = df_focus_17.corr()"
   ]
  },
  {
   "cell_type": "code",
   "execution_count": 43,
   "metadata": {},
   "outputs": [
    {
     "data": {
      "text/html": [
       "<div>\n",
       "<style scoped>\n",
       "    .dataframe tbody tr th:only-of-type {\n",
       "        vertical-align: middle;\n",
       "    }\n",
       "\n",
       "    .dataframe tbody tr th {\n",
       "        vertical-align: top;\n",
       "    }\n",
       "\n",
       "    .dataframe thead th {\n",
       "        text-align: right;\n",
       "    }\n",
       "</style>\n",
       "<table border=\"1\" class=\"dataframe\">\n",
       "  <thead>\n",
       "    <tr style=\"text-align: right;\">\n",
       "      <th></th>\n",
       "      <th>year</th>\n",
       "      <th>price</th>\n",
       "      <th>mileage</th>\n",
       "      <th>engineSize</th>\n",
       "      <th>transmission_Automatic</th>\n",
       "      <th>transmission_Manual</th>\n",
       "      <th>transmission_Semi-Auto</th>\n",
       "      <th>fuelType_Diesel</th>\n",
       "      <th>fuelType_Petrol</th>\n",
       "    </tr>\n",
       "  </thead>\n",
       "  <tbody>\n",
       "    <tr>\n",
       "      <th>year</th>\n",
       "      <td>NaN</td>\n",
       "      <td>NaN</td>\n",
       "      <td>NaN</td>\n",
       "      <td>NaN</td>\n",
       "      <td>NaN</td>\n",
       "      <td>NaN</td>\n",
       "      <td>NaN</td>\n",
       "      <td>NaN</td>\n",
       "      <td>NaN</td>\n",
       "    </tr>\n",
       "    <tr>\n",
       "      <th>price</th>\n",
       "      <td>NaN</td>\n",
       "      <td>1.000000</td>\n",
       "      <td>-0.348932</td>\n",
       "      <td>0.696645</td>\n",
       "      <td>0.002393</td>\n",
       "      <td>0.016651</td>\n",
       "      <td>-0.026427</td>\n",
       "      <td>-0.093647</td>\n",
       "      <td>0.093647</td>\n",
       "    </tr>\n",
       "    <tr>\n",
       "      <th>mileage</th>\n",
       "      <td>NaN</td>\n",
       "      <td>-0.348932</td>\n",
       "      <td>1.000000</td>\n",
       "      <td>0.098406</td>\n",
       "      <td>-0.089790</td>\n",
       "      <td>0.093344</td>\n",
       "      <td>-0.035052</td>\n",
       "      <td>0.372073</td>\n",
       "      <td>-0.372073</td>\n",
       "    </tr>\n",
       "    <tr>\n",
       "      <th>engineSize</th>\n",
       "      <td>NaN</td>\n",
       "      <td>0.696645</td>\n",
       "      <td>0.098406</td>\n",
       "      <td>1.000000</td>\n",
       "      <td>-0.117206</td>\n",
       "      <td>0.170547</td>\n",
       "      <td>-0.115380</td>\n",
       "      <td>0.430865</td>\n",
       "      <td>-0.430865</td>\n",
       "    </tr>\n",
       "    <tr>\n",
       "      <th>transmission_Automatic</th>\n",
       "      <td>NaN</td>\n",
       "      <td>0.002393</td>\n",
       "      <td>-0.089790</td>\n",
       "      <td>-0.117206</td>\n",
       "      <td>1.000000</td>\n",
       "      <td>-0.716401</td>\n",
       "      <td>-0.071647</td>\n",
       "      <td>-0.144955</td>\n",
       "      <td>0.144955</td>\n",
       "    </tr>\n",
       "    <tr>\n",
       "      <th>transmission_Manual</th>\n",
       "      <td>NaN</td>\n",
       "      <td>0.016651</td>\n",
       "      <td>0.093344</td>\n",
       "      <td>0.170547</td>\n",
       "      <td>-0.716401</td>\n",
       "      <td>1.000000</td>\n",
       "      <td>-0.644568</td>\n",
       "      <td>0.149911</td>\n",
       "      <td>-0.149911</td>\n",
       "    </tr>\n",
       "    <tr>\n",
       "      <th>transmission_Semi-Auto</th>\n",
       "      <td>NaN</td>\n",
       "      <td>-0.026427</td>\n",
       "      <td>-0.035052</td>\n",
       "      <td>-0.115380</td>\n",
       "      <td>-0.071647</td>\n",
       "      <td>-0.644568</td>\n",
       "      <td>1.000000</td>\n",
       "      <td>-0.055470</td>\n",
       "      <td>0.055470</td>\n",
       "    </tr>\n",
       "    <tr>\n",
       "      <th>fuelType_Diesel</th>\n",
       "      <td>NaN</td>\n",
       "      <td>-0.093647</td>\n",
       "      <td>0.372073</td>\n",
       "      <td>0.430865</td>\n",
       "      <td>-0.144955</td>\n",
       "      <td>0.149911</td>\n",
       "      <td>-0.055470</td>\n",
       "      <td>1.000000</td>\n",
       "      <td>-1.000000</td>\n",
       "    </tr>\n",
       "    <tr>\n",
       "      <th>fuelType_Petrol</th>\n",
       "      <td>NaN</td>\n",
       "      <td>0.093647</td>\n",
       "      <td>-0.372073</td>\n",
       "      <td>-0.430865</td>\n",
       "      <td>0.144955</td>\n",
       "      <td>-0.149911</td>\n",
       "      <td>0.055470</td>\n",
       "      <td>-1.000000</td>\n",
       "      <td>1.000000</td>\n",
       "    </tr>\n",
       "  </tbody>\n",
       "</table>\n",
       "</div>"
      ],
      "text/plain": [
       "                        year     price   mileage  engineSize  \\\n",
       "year                     NaN       NaN       NaN         NaN   \n",
       "price                    NaN  1.000000 -0.348932    0.696645   \n",
       "mileage                  NaN -0.348932  1.000000    0.098406   \n",
       "engineSize               NaN  0.696645  0.098406    1.000000   \n",
       "transmission_Automatic   NaN  0.002393 -0.089790   -0.117206   \n",
       "transmission_Manual      NaN  0.016651  0.093344    0.170547   \n",
       "transmission_Semi-Auto   NaN -0.026427 -0.035052   -0.115380   \n",
       "fuelType_Diesel          NaN -0.093647  0.372073    0.430865   \n",
       "fuelType_Petrol          NaN  0.093647 -0.372073   -0.430865   \n",
       "\n",
       "                        transmission_Automatic  transmission_Manual  \\\n",
       "year                                       NaN                  NaN   \n",
       "price                                 0.002393             0.016651   \n",
       "mileage                              -0.089790             0.093344   \n",
       "engineSize                           -0.117206             0.170547   \n",
       "transmission_Automatic                1.000000            -0.716401   \n",
       "transmission_Manual                  -0.716401             1.000000   \n",
       "transmission_Semi-Auto               -0.071647            -0.644568   \n",
       "fuelType_Diesel                      -0.144955             0.149911   \n",
       "fuelType_Petrol                       0.144955            -0.149911   \n",
       "\n",
       "                        transmission_Semi-Auto  fuelType_Diesel  \\\n",
       "year                                       NaN              NaN   \n",
       "price                                -0.026427        -0.093647   \n",
       "mileage                              -0.035052         0.372073   \n",
       "engineSize                           -0.115380         0.430865   \n",
       "transmission_Automatic               -0.071647        -0.144955   \n",
       "transmission_Manual                  -0.644568         0.149911   \n",
       "transmission_Semi-Auto                1.000000        -0.055470   \n",
       "fuelType_Diesel                      -0.055470         1.000000   \n",
       "fuelType_Petrol                       0.055470        -1.000000   \n",
       "\n",
       "                        fuelType_Petrol  \n",
       "year                                NaN  \n",
       "price                          0.093647  \n",
       "mileage                       -0.372073  \n",
       "engineSize                    -0.430865  \n",
       "transmission_Automatic         0.144955  \n",
       "transmission_Manual           -0.149911  \n",
       "transmission_Semi-Auto         0.055470  \n",
       "fuelType_Diesel               -1.000000  \n",
       "fuelType_Petrol                1.000000  "
      ]
     },
     "execution_count": 43,
     "metadata": {},
     "output_type": "execute_result"
    }
   ],
   "source": [
    "corr"
   ]
  },
  {
   "cell_type": "markdown",
   "metadata": {},
   "source": [
    "# Linear Regression Modelling\n",
    "\n",
    "From the correlation table above, we can see that there isn't much correlation between a lot of the variables that were going to be used in the modelling. This could result in overfitting of the model because of it may be too complex. I will start by modelling for the 2017 dataset with all variables.\n",
    "Then gradually reduce the variables to just mileage and engineSize which are the two variables which have the biggest correlation with price. This should improve the R2 score of the model.\n",
    "The model is going to be used with a web scraper, so it will be easier to use one model for all predictions. After the variables have been reduced and the optimum x variables have been selected. I will try the model with 2017-19 data all combined and use year as an extra x-variable. This will mean only one model needs to be trained and will be more efficient."
   ]
  },
  {
   "cell_type": "markdown",
   "metadata": {},
   "source": [
    "### Model for all X variables using the 2017 dataset"
   ]
  },
  {
   "cell_type": "code",
   "execution_count": 44,
   "metadata": {},
   "outputs": [],
   "source": [
    "x_train, x_test, y_train, y_test = split_train(df_focus_17, [\"mileage\", \"engineSize\", \"transmission_Automatic\", \n",
    "                                                             \"transmission_Manual\", \"transmission_Semi-Auto\",\n",
    "                                                             \"fuelType_Diesel\", \"fuelType_Petrol\"])"
   ]
  },
  {
   "cell_type": "code",
   "execution_count": 45,
   "metadata": {},
   "outputs": [
    {
     "data": {
      "text/plain": [
       "0.823"
      ]
     },
     "execution_count": 45,
     "metadata": {},
     "output_type": "execute_result"
    }
   ],
   "source": [
    "model_fit, r2 = linear_model(x_train, x_test, y_train, y_test)\n",
    "r2.round(3)"
   ]
  },
  {
   "cell_type": "code",
   "execution_count": 46,
   "metadata": {},
   "outputs": [],
   "source": [
    "cross_val = cross_validate(LinearRegression(), df_focus_17[[\"mileage\", \"engineSize\", \"transmission_Automatic\", \n",
    "                                                   \"transmission_Manual\", \"transmission_Semi-Auto\",\n",
    "                                                   \"fuelType_Diesel\", \"fuelType_Petrol\"]], \n",
    "                                         df_focus_17[\"price\"], cv=2 )"
   ]
  },
  {
   "cell_type": "code",
   "execution_count": 47,
   "metadata": {},
   "outputs": [
    {
     "name": "stdout",
     "output_type": "stream",
     "text": [
      "0.741\n"
     ]
    }
   ],
   "source": [
    "print(cross_val[\"test_score\"].mean().round(3))"
   ]
  },
  {
   "cell_type": "markdown",
   "metadata": {},
   "source": [
    "The test score when tested with cross validation is 74.1%. I'll now start to remove some features to see if the model can be improved. "
   ]
  },
  {
   "cell_type": "markdown",
   "metadata": {},
   "source": [
    "### Model without Transmission Type using the 2017 dataset"
   ]
  },
  {
   "cell_type": "code",
   "execution_count": 48,
   "metadata": {},
   "outputs": [],
   "source": [
    "x_train_2, x_test_2, y_train_2, y_test_2 = split_train(df_focus_17, [\"mileage\", \"engineSize\", \n",
    "                                                                     \"fuelType_Diesel\", \"fuelType_Petrol\"])"
   ]
  },
  {
   "cell_type": "code",
   "execution_count": 49,
   "metadata": {},
   "outputs": [],
   "source": [
    "model_2, r2_2 = linear_model(x_train_2, x_test_2, y_train_2, y_test_2)"
   ]
  },
  {
   "cell_type": "code",
   "execution_count": 50,
   "metadata": {},
   "outputs": [
    {
     "data": {
      "text/plain": [
       "0.826"
      ]
     },
     "execution_count": 50,
     "metadata": {},
     "output_type": "execute_result"
    }
   ],
   "source": [
    "r2_2.round(3)"
   ]
  },
  {
   "cell_type": "code",
   "execution_count": 51,
   "metadata": {},
   "outputs": [],
   "source": [
    "cross_val_2 = cross_validate(LinearRegression(), df_focus_17[[\"mileage\", \"engineSize\",\n",
    "                                                \"fuelType_Diesel\", \"fuelType_Petrol\"]], \n",
    "                                         df_focus_17[\"price\"], cv=2 )"
   ]
  },
  {
   "cell_type": "code",
   "execution_count": 52,
   "metadata": {},
   "outputs": [
    {
     "name": "stdout",
     "output_type": "stream",
     "text": [
      "0.741\n"
     ]
    }
   ],
   "source": [
    "print(cross_val_2[\"test_score\"].mean().round(3))"
   ]
  },
  {
   "cell_type": "markdown",
   "metadata": {},
   "source": [
    "The test score is showing the same accuracy as before. There wasn't that much correlation between the features that got removed and the price. Now the model will be simplified further, just leaving mileage and engine size which have the biggest relationship with price."
   ]
  },
  {
   "cell_type": "markdown",
   "metadata": {},
   "source": [
    "### Model for Mileage and Engine Size using the 2017 dataset"
   ]
  },
  {
   "cell_type": "code",
   "execution_count": 53,
   "metadata": {},
   "outputs": [],
   "source": [
    "x_train_3, x_test_3, y_train_3, y_test_3 = split_train(df_focus_17, [\"mileage\", \"engineSize\"])"
   ]
  },
  {
   "cell_type": "code",
   "execution_count": 54,
   "metadata": {},
   "outputs": [],
   "source": [
    "model_3, r2_3 = linear_model(x_train_3, x_test_3, y_train_3, y_test_3)"
   ]
  },
  {
   "cell_type": "code",
   "execution_count": 55,
   "metadata": {},
   "outputs": [
    {
     "data": {
      "text/plain": [
       "0.663"
      ]
     },
     "execution_count": 55,
     "metadata": {},
     "output_type": "execute_result"
    }
   ],
   "source": [
    "r2_3.round(3)"
   ]
  },
  {
   "cell_type": "code",
   "execution_count": 56,
   "metadata": {},
   "outputs": [],
   "source": [
    "cross_val_3 = cross_validate(LinearRegression(), df_focus_17[[\"mileage\", \"engineSize\"]], \n",
    "                                         df_focus_17[\"price\"], cv=2 )"
   ]
  },
  {
   "cell_type": "code",
   "execution_count": 57,
   "metadata": {},
   "outputs": [
    {
     "name": "stdout",
     "output_type": "stream",
     "text": [
      "0.647\n"
     ]
    }
   ],
   "source": [
    "print(cross_val_3[\"test_score\"].mean().round(3))"
   ]
  },
  {
   "cell_type": "markdown",
   "metadata": {},
   "source": [
    "The new cross validation score is showing a lot worse than the previous models. Ideally we want one model for all the years. I will try these features along with year as a new x variable and combine all the years into one dataframe."
   ]
  },
  {
   "cell_type": "markdown",
   "metadata": {},
   "source": [
    "### Model for Mileage, Engine Size and Year (2017-2019)"
   ]
  },
  {
   "cell_type": "code",
   "execution_count": 59,
   "metadata": {},
   "outputs": [],
   "source": [
    "x_train_all, x_test_all, y_train_all, y_test_all = split_train(df_17_to_19, [\"year\", \"mileage\", \"engineSize\"])"
   ]
  },
  {
   "cell_type": "code",
   "execution_count": 60,
   "metadata": {},
   "outputs": [],
   "source": [
    "model_all, r2_all = linear_model(x_train_all, x_test_all, y_train_all, y_test_all)"
   ]
  },
  {
   "cell_type": "code",
   "execution_count": 61,
   "metadata": {},
   "outputs": [
    {
     "data": {
      "text/plain": [
       "0.705"
      ]
     },
     "execution_count": 61,
     "metadata": {},
     "output_type": "execute_result"
    }
   ],
   "source": [
    "r2_all.round(3)"
   ]
  },
  {
   "cell_type": "code",
   "execution_count": 62,
   "metadata": {},
   "outputs": [],
   "source": [
    "cross_val_all = cross_validate(LinearRegression(), df_17_to_19[[\"year\", \"mileage\", \"engineSize\"]], df_17_to_19[\"price\"], cv=2 )"
   ]
  },
  {
   "cell_type": "code",
   "execution_count": 63,
   "metadata": {},
   "outputs": [
    {
     "name": "stdout",
     "output_type": "stream",
     "text": [
      "0.6253\n"
     ]
    }
   ],
   "source": [
    "print(cross_val_all[\"test_score\"].mean().round(4))"
   ]
  },
  {
   "cell_type": "markdown",
   "metadata": {},
   "source": [
    "This is also performing poorly and isn't accurate to use as the final model. I will try to use XG boost to see if it can improve the model, if not then seperate models based on year will have to be used for prediction."
   ]
  },
  {
   "cell_type": "markdown",
   "metadata": {},
   "source": [
    "### Combined years using XGBoost Regressor"
   ]
  },
  {
   "cell_type": "code",
   "execution_count": 64,
   "metadata": {},
   "outputs": [],
   "source": [
    "xgb_r_all = xg.XGBRegressor(objective = \"reg:squarederror\", n_estimators = 10)"
   ]
  },
  {
   "cell_type": "code",
   "execution_count": 65,
   "metadata": {},
   "outputs": [],
   "source": [
    "cross_val_boost_all = cross_validate(xgb_r_all, df_17_to_19[[\"year\", \"mileage\", \"engineSize\"]], \n",
    "                                         df_17_to_19[\"price\"], cv=5 )"
   ]
  },
  {
   "cell_type": "code",
   "execution_count": 66,
   "metadata": {},
   "outputs": [
    {
     "name": "stdout",
     "output_type": "stream",
     "text": [
      "0.712\n"
     ]
    }
   ],
   "source": [
    "print(cross_val_boost_all[\"test_score\"].mean().round(3))"
   ]
  },
  {
   "cell_type": "markdown",
   "metadata": {},
   "source": [
    "This shows a big improvement and is performing slightly under the best model (first model). This will be used as the final predictor model."
   ]
  },
  {
   "cell_type": "markdown",
   "metadata": {},
   "source": [
    "### Final Model \n",
    "\n",
    "Training the final model with all the data to use for some predictions. Please see models.py to see the function used to train the model."
   ]
  },
  {
   "cell_type": "code",
   "execution_count": 67,
   "metadata": {},
   "outputs": [],
   "source": [
    "xgb_r_final = xgb_r(df_17_to_19)"
   ]
  },
  {
   "cell_type": "markdown",
   "metadata": {},
   "source": [
    "\n",
    "\n",
    "Now I will test the model with data taken from www.autotrader.co.uk\n",
    "On the website, the cars are given a label for the price. This will be a good indicator to see how the model is predicting in comparison.\n",
    "The rating categories: Lower price, great price, good price, fair price and higher price.\n",
    "The following is taken from their website to show how they calculate the categories:\n",
    "\n",
    "    - The car's condition\n",
    "    - The car's colour\n",
    "    - Regional supply and demand\n",
    "    - Special modifications\n",
    "    - Additional services, warranties, admin fees and finance deals\n",
    "    - The number of owners\n",
    "    - The car's service history\n",
    "\n",
    "### Car 1: Ford Focus 2017 (50,206 miles, 1.5l engine and asking price £8925)\n",
    "This car is advertised as \"lower price\", so let's see if the model agrees."
   ]
  },
  {
   "cell_type": "code",
   "execution_count": 68,
   "metadata": {},
   "outputs": [
    {
     "name": "stdout",
     "output_type": "stream",
     "text": [
      "9833\n",
      "Potential Profit: £908\n"
     ]
    }
   ],
   "source": [
    "custom_input_for_model(xgb_r_final, [2017, 50206, 1.5], 8925)"
   ]
  },
  {
   "cell_type": "markdown",
   "metadata": {},
   "source": [
    "### Car 2: Ford Focus 2017 (5500 miles, 1.0l engine and asking price £12,800)\n",
    "\n",
    "Advertised as \"fair price\""
   ]
  },
  {
   "cell_type": "code",
   "execution_count": 69,
   "metadata": {},
   "outputs": [
    {
     "name": "stdout",
     "output_type": "stream",
     "text": [
      "12133\n",
      "Potential Profit: £-667\n"
     ]
    }
   ],
   "source": [
    "custom_input_for_model(xgb_r_final, [2017, 5500, 1.0], 12800)"
   ]
  },
  {
   "cell_type": "markdown",
   "metadata": {},
   "source": [
    "### Car 3: Ford Focus 2018 (34,875 miles, 1.5l engine and asking price is £10,499)\n",
    "Advertised as \"great price\""
   ]
  },
  {
   "cell_type": "code",
   "execution_count": 70,
   "metadata": {},
   "outputs": [
    {
     "name": "stdout",
     "output_type": "stream",
     "text": [
      "11805\n",
      "Potential Profit: £1306\n"
     ]
    }
   ],
   "source": [
    "custom_input_for_model(xgb_r_final, [2018, 34875, 1.5], 10499)"
   ]
  },
  {
   "cell_type": "markdown",
   "metadata": {},
   "source": [
    "### Car 4: Ford Focus 2019 (9,020 miles, 2.3l and asking price is £26750)\n",
    "Advertised as \"fair price\""
   ]
  },
  {
   "cell_type": "code",
   "execution_count": 71,
   "metadata": {},
   "outputs": [
    {
     "name": "stdout",
     "output_type": "stream",
     "text": [
      "25213\n",
      "Potential Profit: £-1537\n"
     ]
    }
   ],
   "source": [
    "custom_input_for_model(xgb_r_final, [2019, 9020, 2.3], 26750)"
   ]
  },
  {
   "cell_type": "markdown",
   "metadata": {},
   "source": [
    "### Car 5: Ford Focus 2019 (15,900 miles, 1.0l and asking price is £15,740)\n",
    "Advertised as \"great price\""
   ]
  },
  {
   "cell_type": "code",
   "execution_count": 72,
   "metadata": {},
   "outputs": [
    {
     "name": "stdout",
     "output_type": "stream",
     "text": [
      "15720\n",
      "Potential Profit: £-20\n"
     ]
    }
   ],
   "source": [
    "custom_input_for_model(xgb_r_final, [2019, 15900, 1.0], 15740)"
   ]
  },
  {
   "cell_type": "markdown",
   "metadata": {},
   "source": [
    "We can see from the results above that the model has similar predictions to the categorical label that autotrader have given the cars. One big factor that the model won't be able to consider is car condtion. "
   ]
  }
 ],
 "metadata": {
  "kernelspec": {
   "display_name": "Python 3",
   "language": "python",
   "name": "python3"
  },
  "language_info": {
   "codemirror_mode": {
    "name": "ipython",
    "version": 3
   },
   "file_extension": ".py",
   "mimetype": "text/x-python",
   "name": "python",
   "nbconvert_exporter": "python",
   "pygments_lexer": "ipython3",
   "version": "3.8.5"
  }
 },
 "nbformat": 4,
 "nbformat_minor": 4
}
